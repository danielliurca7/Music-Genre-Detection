{
 "cells": [
  {
   "cell_type": "markdown",
   "metadata": {
    "colab_type": "text",
    "id": "view-in-github"
   },
   "source": [
    "<a href=\"https://colab.research.google.com/github/cs-pub-ro/ML/blob/master/homework/hw1/Tema_1_Skel.ipynb\" target=\"_parent\"><img src=\"https://colab.research.google.com/assets/colab-badge.svg\" alt=\"Open In Colab\"/></a>"
   ]
  },
  {
   "cell_type": "markdown",
   "metadata": {
    "colab_type": "text",
    "id": "dDsijK1tlD3l"
   },
   "source": [
    "# Tema 1 - A taste for music\n",
    "## Găsirea genului pentru piese"
   ]
  },
  {
   "cell_type": "markdown",
   "metadata": {
    "colab_type": "text",
    "id": "UTYLEhD_BM06"
   },
   "source": [
    "## 1. Scopul Proiectului\n"
   ]
  },
  {
   "cell_type": "markdown",
   "metadata": {
    "colab_type": "text",
    "id": "OkKFf7mEg8oZ"
   },
   "source": [
    "Proiectul are ca scop folosirea metode de clasificare pentru a **determina genul muzical** al unor sample-uri audio dintr-un set de date.\n",
    "\n",
    "Se dorește înțelegerea procedurii tipice de **prelucrare a unui set de date**, de **explorare a atributelor**, precum și efectuarea unei **analize comparative** a mai multor algoritmi de clasificare, evidențiând diferențele între ei prin metrici precum *acuratețe, precizie, regăsire (eng. recall)*. "
   ]
  },
  {
   "cell_type": "markdown",
   "metadata": {
    "colab_type": "text",
    "id": "67UlrcAdqj3N"
   },
   "source": [
    "## 2. Set de date"
   ]
  },
  {
   "cell_type": "markdown",
   "metadata": {
    "colab_type": "text",
    "id": "DEvxaYvXhAn7"
   },
   "source": [
    "Setul de date utilizat poartă denumirea de Free Music Archive [[1]](#fma). \n",
    "\n",
    "Dataset-ul utilizat este \"usor\" modificat - va conține doar 4 genuri muzicale: *Rock*, *Hip-Hop*, *Folk* și *Electronic*.\n",
    "\n",
    "Setul de date este deja echilibrat (eng. balanced) -- sunt câte 500 de piese din fiecare gen în setul de train și câte 100 în cel de testare.\n",
    "\n",
    "Dacă setați parametrul [DOWNLOAD_SAMPLE_DATASET](#scrollTo=te02bqsfMhls) se va descărca și un audio sample pentru fiecare track_id atunci când se rulează celula specifică pentru secțiunea [Descărcare](#scrollTo=RxCYjmzTM82o).\n",
    "\n",
    "Puteți asculta sample-ul din piesă [aici](#scrollTo=te02bqsfMhls).\n",
    "\n",
    "Se va folosi drept **clasă** (eticheta care trebuie prezisa) *genul muzical cel mai general* (numele coloanei în engleza este *top_genre*) pentru fiecare piesă.\n",
    "\n",
    "\n",
    "Setul de date conține pentru fiecare sample mai multe atribute (eng. features), de tip numeric, care pot fi folosite pentru clasificare. Acestea pot fi găsite în fișierele *features.csv* sau *echonest.csv*.\n",
    "\n",
    "\n",
    "Pentru mai multe informații privind setul de date, se poate consulta [acest repository](https://github.com/mdeff/fma).\n",
    "\n",
    "Dataset-ul utilizat este o copie ușor modificată a celor [3 dataset-uri](https://github.com/mdeff/fma#Data): *fma_small.zip*, *fma_medium.zip*, *fma_large.zip*."
   ]
  },
  {
   "cell_type": "markdown",
   "metadata": {
    "colab_type": "text",
    "id": "dKLOmyV707aI"
   },
   "source": [
    "## 3. Workspace Setup"
   ]
  },
  {
   "cell_type": "markdown",
   "metadata": {
    "colab_type": "text",
    "id": "te02bqsfMhls"
   },
   "source": [
    "### Parametrii"
   ]
  },
  {
   "cell_type": "code",
   "execution_count": 1,
   "metadata": {
    "colab": {},
    "colab_type": "code",
    "id": "ibnL7HbE_Er3"
   },
   "outputs": [],
   "source": [
    "# Music samples -- has ~ 2GB\n",
    "DOWNLOAD_SAMPLE_DATASET = False  #@param {type: \"boolean\"}"
   ]
  },
  {
   "cell_type": "markdown",
   "metadata": {
    "colab_type": "text",
    "id": "HhdeP2WuL1AE"
   },
   "source": [
    "### Dependențe"
   ]
  },
  {
   "cell_type": "code",
   "execution_count": 2,
   "metadata": {
    "colab": {},
    "colab_type": "code",
    "id": "Tl4uOyEu08xX"
   },
   "outputs": [
    {
     "name": "stdout",
     "output_type": "stream",
     "text": [
      "Requirement already satisfied: pandas in d:\\python\\python37\\lib\\site-packages (0.25.3)\n",
      "Requirement already satisfied: pytz>=2017.2 in d:\\python\\python37\\lib\\site-packages (from pandas) (2019.3)\n",
      "Requirement already satisfied: python-dateutil>=2.6.1 in d:\\python\\python37\\lib\\site-packages (from pandas) (2.8.0)\n",
      "Requirement already satisfied: numpy>=1.13.3 in d:\\python\\python37\\lib\\site-packages (from pandas) (1.18.2)\n",
      "Requirement already satisfied: six>=1.5 in c:\\users\\danie\\appdata\\roaming\\python\\python37\\site-packages (from python-dateutil>=2.6.1->pandas) (1.12.0)\n",
      "Requirement already satisfied: xgboost in d:\\python\\python37\\lib\\site-packages (1.0.2)\n",
      "Requirement already satisfied: scipy in d:\\python\\python37\\lib\\site-packages (from xgboost) (1.3.2)\n",
      "Requirement already satisfied: numpy in d:\\python\\python37\\lib\\site-packages (from xgboost) (1.18.2)\n",
      "Requirement already satisfied: scikit-learn in d:\\python\\python37\\lib\\site-packages (0.21.3)\n",
      "Requirement already satisfied: numpy>=1.11.0 in d:\\python\\python37\\lib\\site-packages (from scikit-learn) (1.18.2)\n",
      "Requirement already satisfied: scipy>=0.17.0 in d:\\python\\python37\\lib\\site-packages (from scikit-learn) (1.3.2)\n",
      "Requirement already satisfied: joblib>=0.11 in d:\\python\\python37\\lib\\site-packages (from scikit-learn) (0.14.0)\n"
     ]
    }
   ],
   "source": [
    "!pip install pandas\n",
    "!pip install xgboost\n",
    "!pip install scikit-learn\n",
    "\n",
    "if DOWNLOAD_SAMPLE_DATASET:\n",
    "    !pip install ffmpeg\n",
    "    !pip install librosa\n",
    "    !pip install tqdm"
   ]
  },
  {
   "cell_type": "markdown",
   "metadata": {
    "colab_type": "text",
    "id": "FOsgPbZl1_W6"
   },
   "source": [
    "### Import biblioteci"
   ]
  },
  {
   "cell_type": "code",
   "execution_count": 3,
   "metadata": {
    "colab": {},
    "colab_type": "code",
    "id": "wK3S5gpr2c2i"
   },
   "outputs": [],
   "source": [
    "if DOWNLOAD_SAMPLE_DATASET:\n",
    "    from tqdm import tqdm\n",
    "    import librosa\n",
    "\n",
    "import pandas as pd\n",
    "from zipfile import ZipFile\n",
    "\n",
    "import IPython.display as ipd"
   ]
  },
  {
   "cell_type": "markdown",
   "metadata": {
    "colab_type": "text",
    "id": "iXlSfuvvzzFT"
   },
   "source": [
    "### Funcții ajutătoare"
   ]
  },
  {
   "cell_type": "code",
   "execution_count": 4,
   "metadata": {
    "colab": {},
    "colab_type": "code",
    "id": "yWnuDNtmEyMB"
   },
   "outputs": [],
   "source": [
    "def _reporthook(t):\n",
    "    \"\"\" ``reporthook`` to use with ``urllib.request`` that prints the process of the download.\n",
    "\n",
    "    Uses ``tqdm`` for progress bar.\n",
    "\n",
    "    **Reference:**\n",
    "    https://github.com/tqdm/tqdm\n",
    "\n",
    "    Args:\n",
    "        t (tqdm.tqdm) Progress bar.\n",
    "    \"\"\"\n",
    "    last_b = [0]\n",
    "\n",
    "    def inner(b=1, bsize=1, tsize=None):\n",
    "        \"\"\"\n",
    "        Args:\n",
    "            b (int, optional): Number of blocks just transferred [default: 1].\n",
    "            bsize (int, optional): Size of each block (in tqdm units) [default: 1].\n",
    "            tsize (int, optional): Total size (in tqdm units). If [default: None] remains unchanged.\n",
    "        \"\"\"\n",
    "        if tsize is not None:\n",
    "            t.total = tsize\n",
    "        t.update((b - last_b[0]) * bsize)\n",
    "        last_b[0] = b\n",
    "\n",
    "    return inner\n",
    "\n",
    "def getHomeworkArchives():\n",
    "    \"\"\" Checks if the homework dataset is present in the local directory, if not,\n",
    "    downloads it.\n",
    "    \"\"\"\n",
    "    from os import path\n",
    "\n",
    "    dataset_info = {\n",
    "        \"fma_song_info.zip\": \"http://swarm.cs.pub.ro/~gmuraru/ML/HW1/data/fma_song_info.zip\",\n",
    "        \"fma_song_samples.zip\": \"http://swarm.cs.pub.ro/~gmuraru/ML/HW1/data/fma_song_samples.zip\" # Need to upload this\n",
    "    }\n",
    "\n",
    "    for dataset_file, dataset_url in dataset_info.items():\n",
    "        if not path.isfile(dataset_file):\n",
    "            import urllib\n",
    "            with tqdm(unit='B', unit_scale=True, miniters=1, desc=dataset_file) as t:\n",
    "                urllib.request.urlretrieve(dataset_url, filename=dataset_file, reporthook=_reporthook(t))\n",
    "\n",
    "            assert(path.isfile(dataset_file))\n",
    "\n",
    "            with ZipFile(dataset_file, 'r') as zip_ref:\n",
    "                zip_ref.extractall()\n",
    "        else:\n",
    "            print(f\"{dataset_file} already in the local directory\")\n",
    "\n",
    "\n",
    "# ALL THE FUCTIONS FROM THIS POINT FORWARD ARE NEEDED ONLY IF\n",
    "# DOWNLOAD_SAMPLE_DATASET IS TRUE\n",
    "def load_tracks():\n",
    "    zipFile = ZipFile(\"fma_song_info.zip\")\n",
    "    return pd.read_csv(zipFile.open(\"song_info/tracks.csv\"), index_col=0, header=[0,1])\n",
    "\n",
    "\n",
    "def load_features():\n",
    "    zipFile = ZipFile(\"fma_song_info.zip\")\n",
    "    return pd.read_csv(zipFile.open('song_info/features.csv'), index_col=0, header=[0,1,2])\n",
    "\n",
    "\n",
    "def load_echonest():\n",
    "    zipFile = ZipFile(\"fma_song_info.zip\")\n",
    "    return pd.read_csv(zipFile.open(\"song_info/echonest.csv\"), index_col=0, header=[0,1,2])\n",
    "\n",
    "\n",
    "def get_song_path(track_id: int):\n",
    "    ''' Given a track id return the path to the sample\n",
    "\n",
    "    Args:\n",
    "        track_id (int): the id for a song found the dataset\n",
    "\n",
    "    Returns:\n",
    "        The path to the sample relative to the current directory\n",
    "    '''\n",
    "\n",
    "    return f'song_samples/{track_id:06}.mp3'"
   ]
  },
  {
   "cell_type": "markdown",
   "metadata": {
    "colab_type": "text",
    "id": "RxCYjmzTM82o"
   },
   "source": [
    "### Descărcare"
   ]
  },
  {
   "cell_type": "code",
   "execution_count": 5,
   "metadata": {
    "colab": {},
    "colab_type": "code",
    "id": "R7UQywrxOaLW"
   },
   "outputs": [
    {
     "name": "stdout",
     "output_type": "stream",
     "text": [
      "fma_song_info.zip already in the local directory\n",
      "fma_song_samples.zip already in the local directory\n"
     ]
    }
   ],
   "source": [
    "getHomeworkArchives()"
   ]
  },
  {
   "cell_type": "markdown",
   "metadata": {
    "colab_type": "text",
    "id": "42KuhlsjfZLR"
   },
   "source": [
    "### Încărcare date"
   ]
  },
  {
   "cell_type": "code",
   "execution_count": 6,
   "metadata": {
    "colab": {},
    "colab_type": "code",
    "id": "KjBTENJSfbpp"
   },
   "outputs": [],
   "source": [
    "# Load Echonest features for our dataset\n",
    "echonest = load_echonest()\n",
    "tracks = load_tracks()\n",
    "features = load_features()\n",
    "\n",
    "# True/False masks for selecting training/test\n",
    "train = tracks['set', 'split'] == 'training'\n",
    "test = tracks['set', 'split'].isin(['test', 'validation'])\n",
    "\n",
    "# Get X and Y\n",
    "X_train = echonest.loc[train, ('echonest', 'audio_features')]\n",
    "X_test = echonest.loc[test, ('echonest', 'audio_features')]\n",
    "\n",
    "Y_train = tracks.loc[train, ('track', 'genre_top')]\n",
    "Y_test = tracks.loc[test, ('track', 'genre_top')]"
   ]
  },
  {
   "cell_type": "markdown",
   "metadata": {
    "colab_type": "text",
    "id": "NiqnAbGQpEVi"
   },
   "source": [
    "## 4. Problemă de rezolvat\n",
    "\n"
   ]
  },
  {
   "cell_type": "markdown",
   "metadata": {
    "colab_type": "text",
    "id": "m3X0ozpFg2Bc"
   },
   "source": [
    "Împărțim problema de rezolvat în două subpuncte principale:\n",
    "  * Implementarea unui clasificator al genului muzical (eng. genre) pentru un anumit sample de piesă prin intermediul a patru algoritmi (KMeans, Decision Trees/Random Forest, XGBoost și SVM). Construirea unei variante de baza (eng. baseline) a clasificatorului pentru fiecare algoritm propus.\n",
    "  * Explorarea metodelor prin care pot fi îmbunătățite rezultatele fiecarui algoritm în parte (e.g. varierea atributelor, prelucrarea suplimentară a atributelor, modificarea hiperparametrilor algoritmului), evaluarea comparativă intra- (i.e. față de baseline pentru același tip de algoritm) și inter-algoritm."
   ]
  },
  {
   "cell_type": "markdown",
   "metadata": {
    "colab_type": "text",
    "id": "sX1b987kzGcn"
   },
   "source": [
    "### 4.1. Implementare si rulare clasificatori\n",
    "\n",
    "Pentru acest pas se vor rula mai mulți algoritmi pe setul de date și vor fi notate rezultatele obținute.\n",
    "\n",
    "Veți crea câte un clasificator folosind fiecare din cei patru algoritmi din următoarea listă:\n",
    "  * KMeans\n",
    "  * Arbori de decizie, păduri aleatoare\n",
    "  * XGBoost\n",
    "  * SVM \n",
    "\n",
    "**Observație 1:** Pentru KMeans, fiind **nesupervizat**, vom presupune că *nu* se știe că numărul de clustere este 4.\n",
    "\n",
    "\n",
    "#### **Utilizarea setului de date**\n",
    "În general, majoritatea seturilor de date sunt împărțite în:\n",
    "* setul de antrenare (eng. training dataset) - se rulează algoritmul de învățare pe acest set (eng. fit the model)\n",
    "* setul de validare (eng. validation dataset sau dev set) - se utilizează pentru modificarea hiperparametrilor algoritmului (eng. tunning the hyperparameters)\n",
    "* setul de testare (eng. testing dataset sau holdout dataset) - se rulează pentru testarea finală a algoritmului.\n",
    "\n",
    "Testul de validare și de testare sunt concatenate.\n",
    "\n",
    "#### **Implementare algoritmi**\n",
    "Se vor dezvolta clasificatorii *baseline* pe baza fiecărui algoritm din cei listați mai sus. \n",
    "Se vor utiliza implementările default din bibliotecile alese pentru a obține baseline-ul.\n",
    "Folosiți drept features *audio_features* din tabela de *echonest* (sunt deja selectate în schelet).\n",
    "\n",
    "Se vor folosi set-ul *train* pentru antrenare și *test* pentru testare.\n",
    "\n",
    "#### **Evaluare** [1 pct]\n",
    "Se găsește [aici](https://scikit-learn.org/stable/modules/classes.html#module-sklearn.metrics) o listă cu metrici folosite, in general, pentru evaluarea algoritmilor de machine learning.\n",
    "\n",
    "Pentru fiecare algoritm în parte, se vor raporta metricile de *accuracy*, *precision*, *recall*, *f-score* și *matricea de confuzie (eng. confusion matrix)*.\n",
    "\n",
    "**Observații KMeans**\n",
    "1. Având în vedere că KMeans nu este un algoritm supervizat, putem să combinăm cele 2 seturi de date (train + testare) pentru a face clusterizarea.\n",
    "2. Facem rescale *feature-urilor* astfel încât acestea să fie centrate în 0 cu o deviație standard de 1 - [standardizarea datelor](#scrollTo=-tkdMwB5S-as)\n",
    "3. Rulam KMeans pe setul de antrenare utilizând un număr diferit de clustere (eg. 2, 3, 4, 5, 6).\n",
    "4. Verificam utlizând metoda [silhouette](https://scikit-learn.org/stable/auto_examples/cluster/plot_kmeans_silhouette_analysis.html) care este numărul optim de clustere (puteți încerca și cu [elbow](https://www.oreilly.com/library/view/statistics-for-machine/9781788295758/c71ea970-0f3c-4973-8d3a-b09a7a6553c1.xhtml) însă va trebui să creștem lungmea intervalului de clustere).\n",
    "5. Alegem numărul optim de clustere și calculam **doar** *randIndex*.\n",
    "6. [Opțional] Vom analiza coordonatele centroizilor pentru a observa cum diferă genurile muzicale în funcție de *audio_features*. \n",
    "6. [Opțional] Vom testa să vedeți că piesele din același cluster seamănă utilizând codul de [aici](#scrollTo=fS6s1c-gPyMN).\n",
    "\n",
    "**Observații DecisionTree/RandomForest**\n",
    "\n",
    "Implementarea sugerată este [cea](https://scikit-learn.org/stable/modules/generated/sklearn.ensemble.RandomForestClassifier.html) din biblioteca scikit-learn. \n",
    "\n",
    "**Observații XGBoost**\n",
    "\n",
    "Implementarea sugerată este cea din biblioteca [xgboost](https://xgboost.readthedocs.io/en/latest/python/python_intro.html)\n",
    "\n",
    "**Observații SVM**\n",
    "\n",
    "Implementarea sugerată este [cea](https://scikit-learn.org/stable/modules/svm.html) din biblioteca scikit-learn."
   ]
  },
  {
   "cell_type": "markdown",
   "metadata": {},
   "source": [
    "#### Importuri"
   ]
  },
  {
   "cell_type": "code",
   "execution_count": 7,
   "metadata": {},
   "outputs": [],
   "source": [
    "import numpy as np\n",
    "from sklearn.metrics import accuracy_score, precision_score, recall_score, f1_score, confusion_matrix, silhouette_score\n",
    "from sklearn.preprocessing import StandardScaler, LabelEncoder\n",
    "from sklearn.cluster import KMeans\n",
    "from sklearn.ensemble import RandomForestClassifier\n",
    "from xgboost import XGBClassifier\n",
    "from sklearn.svm import SVC\n",
    "from sklearn.model_selection import train_test_split, cross_val_score\n",
    "from sklearn.feature_selection import SelectKBest, chi2\n",
    "from statistics import mean, stdev\n",
    "import matplotlib.pyplot as plt"
   ]
  },
  {
   "cell_type": "markdown",
   "metadata": {},
   "source": [
    "#### Functii ajutatoare"
   ]
  },
  {
   "cell_type": "code",
   "execution_count": 8,
   "metadata": {},
   "outputs": [],
   "source": [
    "classes = Y_test.unique()\n",
    "\n",
    "def evaluate_metrics(Y_test, Y_pred):\n",
    "    return {\n",
    "        \"accuracy\": accuracy_score(Y_test, Y_pred),\n",
    "        \"precision\": precision_score(Y_test, Y_pred, average=None),\n",
    "        \"recall\": recall_score(Y_test, Y_pred, average=None),\n",
    "        \"f1\": f1_score(Y_test, Y_pred, average=None),\n",
    "        \"confusion_matrix\": confusion_matrix(Y_test, Y_pred)\n",
    "    }\n",
    "    \n",
    "\n",
    "def print_metrics(metrics):\n",
    "    print('accuracy score is:', metrics[\"accuracy\"])\n",
    "    print()\n",
    "\n",
    "    print('precision scores are:')\n",
    "    for i in range(len(classes)):\n",
    "        print('\\tclass', classes[i], metrics[\"precision\"][i])\n",
    "    print()\n",
    "\n",
    "    print('recall scores are:')\n",
    "    recalls = recall_score(Y_test, Y_pred, average=None)\n",
    "    for i in range(len(classes)):\n",
    "        print('\\tclass', classes[i], metrics[\"recall\"][i])\n",
    "    print()\n",
    "\n",
    "    print('f1 scores are')\n",
    "    f1s = f1_score(Y_test, Y_pred, average=None)\n",
    "    for i in range(len(classes)):\n",
    "        print('\\tclass', classes[i], metrics[\"f1\"][i])\n",
    "    print()\n",
    "\n",
    "    print('confusion matrix is:')\n",
    "    print(metrics[\"confusion_matrix\"])\n",
    "    print()\n",
    "\n",
    "    \n",
    "def randIndex(clusters, labels):\n",
    "    K, = clusters.shape\n",
    "    TP = FP = FN = TN = 0\n",
    "\n",
    "    for i in range(K):\n",
    "        for j in range(K):\n",
    "            if clusters[i] == clusters[j] and labels[i] == labels[j]:\n",
    "                TP = TP + 1\n",
    "            if clusters[i] == clusters[j] and labels[i] != labels[j]:\n",
    "                FP = FP + 1\n",
    "            if clusters[i] != clusters[j] and labels[i] == labels[j]:\n",
    "                FN = FN + 1\n",
    "            if clusters[i] != clusters[j] and labels[i] != labels[j]:\n",
    "                TN = TN + 1\n",
    "\n",
    "    return (TP + TN) / (TP + FP + FN + TN)"
   ]
  },
  {
   "cell_type": "markdown",
   "metadata": {
    "colab_type": "text",
    "id": "5gcc_vwiS1hz"
   },
   "source": [
    "#### KMeans"
   ]
  },
  {
   "cell_type": "code",
   "execution_count": 9,
   "metadata": {
    "colab": {},
    "colab_type": "code",
    "id": "5XQh_E0xS2b0",
    "scrolled": false
   },
   "outputs": [
    {
     "name": "stdout",
     "output_type": "stream",
     "text": [
      "For n_clusters = 2 The average silhouette_score is : 0.17270504642031057\n",
      "For n_clusters = 3 The average silhouette_score is : 0.1723567117081337\n",
      "For n_clusters = 4 The average silhouette_score is : 0.1870034330635089\n",
      "For n_clusters = 5 The average silhouette_score is : 0.17963010031407475\n",
      "For n_clusters = 6 The average silhouette_score is : 0.18022469244568756\n",
      "randIndex: 0.6771663194444445\n"
     ]
    }
   ],
   "source": [
    "X = pd.concat([X_train, X_test])\n",
    "Y = pd.concat([Y_train, Y_test])\n",
    "\n",
    "X = StandardScaler().fit_transform(X)\n",
    "\n",
    "range_n_clusters = [2, 3, 4, 5, 6]\n",
    "\n",
    "for n_clusters in range_n_clusters:\n",
    "    clusterer = KMeans(n_clusters=n_clusters)\n",
    "    cluster_labels = clusterer.fit_predict(X)\n",
    "\n",
    "    silhouette_avg = silhouette_score(X, cluster_labels)\n",
    "    print(\"For n_clusters =\", n_clusters,\n",
    "          \"The average silhouette_score is :\", silhouette_avg)\n",
    "\n",
    "# Am obtinut silhouette_score cel mai mare pentru 4 clustere si calculam randIndex\n",
    "\n",
    "clusterer = KMeans(n_clusters=4)\n",
    "cluster_labels = clusterer.fit_predict(X)\n",
    "\n",
    "print('randIndex:', randIndex(cluster_labels, Y.to_list()))"
   ]
  },
  {
   "cell_type": "markdown",
   "metadata": {
    "colab_type": "text",
    "id": "_C_Oz30Fn7L4"
   },
   "source": [
    "#### Random Forest"
   ]
  },
  {
   "cell_type": "code",
   "execution_count": 10,
   "metadata": {
    "colab": {},
    "colab_type": "code",
    "id": "9_a_23tzpTK9",
    "scrolled": false
   },
   "outputs": [
    {
     "name": "stdout",
     "output_type": "stream",
     "text": [
      "accuracy score is: 0.745\n",
      "\n",
      "precision scores are:\n",
      "\tclass Rock 0.7159090909090909\n",
      "\tclass Hip-Hop 0.7767857142857143\n",
      "\tclass Folk 0.7714285714285715\n",
      "\tclass Electronic 0.7052631578947368\n",
      "\n",
      "recall scores are:\n",
      "\tclass Rock 0.63\n",
      "\tclass Hip-Hop 0.87\n",
      "\tclass Folk 0.81\n",
      "\tclass Electronic 0.67\n",
      "\n",
      "f1 scores are\n",
      "\tclass Rock 0.6702127659574468\n",
      "\tclass Hip-Hop 0.820754716981132\n",
      "\tclass Folk 0.7902439024390244\n",
      "\tclass Electronic 0.6871794871794872\n",
      "\n",
      "confusion matrix is:\n",
      "[[63 10 16 11]\n",
      " [ 0 87  0 13]\n",
      " [14  1 81  4]\n",
      " [11 14  8 67]]\n",
      "\n"
     ]
    }
   ],
   "source": [
    "clf = RandomForestClassifier(n_estimators=100)\n",
    "clf.fit(X_train, Y_train)\n",
    "\n",
    "Y_pred = clf.predict(X_test)\n",
    "\n",
    "print_metrics(evaluate_metrics(Y_test, Y_pred))"
   ]
  },
  {
   "cell_type": "markdown",
   "metadata": {
    "colab_type": "text",
    "id": "9GOaC0iopuAb"
   },
   "source": [
    "#### XGBoost"
   ]
  },
  {
   "cell_type": "code",
   "execution_count": 11,
   "metadata": {
    "colab": {},
    "colab_type": "code",
    "id": "Yu5IW7s3pzB9"
   },
   "outputs": [
    {
     "name": "stdout",
     "output_type": "stream",
     "text": [
      "accuracy score is: 0.7225\n",
      "\n",
      "precision scores are:\n",
      "\tclass Rock 0.6808510638297872\n",
      "\tclass Hip-Hop 0.7142857142857143\n",
      "\tclass Folk 0.7941176470588235\n",
      "\tclass Electronic 0.6956521739130435\n",
      "\n",
      "recall scores are:\n",
      "\tclass Rock 0.64\n",
      "\tclass Hip-Hop 0.8\n",
      "\tclass Folk 0.81\n",
      "\tclass Electronic 0.64\n",
      "\n",
      "f1 scores are\n",
      "\tclass Rock 0.6597938144329897\n",
      "\tclass Hip-Hop 0.7547169811320756\n",
      "\tclass Folk 0.801980198019802\n",
      "\tclass Electronic 0.6666666666666666\n",
      "\n",
      "confusion matrix is:\n",
      "[[64 12 13 11]\n",
      " [ 5 80  1 14]\n",
      " [13  3 81  3]\n",
      " [12 17  7 64]]\n",
      "\n"
     ]
    }
   ],
   "source": [
    "# XGBoost cere datele ca numere asa ca le codificam\n",
    "le = LabelEncoder()\n",
    "Y = le.fit_transform(Y_train)\n",
    "\n",
    "clf = XGBClassifier(n_estimators = 100)\n",
    "clf.fit(X_train, Y)\n",
    "\n",
    "Y_pred = le.inverse_transform(clf.predict(X_test))\n",
    "\n",
    "print_metrics(evaluate_metrics(Y_test, Y_pred))"
   ]
  },
  {
   "cell_type": "markdown",
   "metadata": {
    "colab_type": "text",
    "id": "Kfz0i0ggsBcQ"
   },
   "source": [
    "#### SVM"
   ]
  },
  {
   "cell_type": "code",
   "execution_count": 12,
   "metadata": {
    "colab": {},
    "colab_type": "code",
    "id": "LKdHDfursCxW",
    "scrolled": false
   },
   "outputs": [
    {
     "name": "stdout",
     "output_type": "stream",
     "text": [
      "accuracy score is: 0.715\n",
      "\n",
      "precision scores are:\n",
      "\tclass Rock 0.6504854368932039\n",
      "\tclass Hip-Hop 0.7413793103448276\n",
      "\tclass Folk 0.7741935483870968\n",
      "\tclass Electronic 0.6931818181818182\n",
      "\n",
      "recall scores are:\n",
      "\tclass Rock 0.67\n",
      "\tclass Hip-Hop 0.86\n",
      "\tclass Folk 0.72\n",
      "\tclass Electronic 0.61\n",
      "\n",
      "f1 scores are\n",
      "\tclass Rock 0.6600985221674877\n",
      "\tclass Hip-Hop 0.7962962962962963\n",
      "\tclass Folk 0.7461139896373057\n",
      "\tclass Electronic 0.648936170212766\n",
      "\n",
      "confusion matrix is:\n",
      "[[67 13 11  9]\n",
      " [ 1 86  1 12]\n",
      " [18  4 72  6]\n",
      " [17 13  9 61]]\n",
      "\n"
     ]
    }
   ],
   "source": [
    "clf = SVC(gamma='auto', kernel='linear')\n",
    "clf.fit(X_train, Y)\n",
    "\n",
    "Y_pred = le.inverse_transform(clf.predict(X_test))\n",
    "\n",
    "print_metrics(evaluate_metrics(Y_test, Y_pred))"
   ]
  },
  {
   "cell_type": "markdown",
   "metadata": {
    "colab_type": "text",
    "id": "xwYtvPlnFBkV"
   },
   "source": [
    "### 4.2. Metode de îmbunătățire și evaluare comparativă\n",
    "\n",
    "Pentru fiecare algoritm, vom explora metode prin care să îmbunătățiți performanțele de la pasul precedent (cel de realizarea a baseline-ului).\n",
    "\n",
    "**Îmbunătățire algoritmi**\n",
    "\n",
    "Avem în vedere următoarea listă de idei (și nu numai):\n",
    "* adăugarea de mai multe feature-uri (momentan la baseline s-au folosit doar *audio_features*)\n",
    "* [preprocesarea datelor](https://scikit-learn.org/stable/modules/preprocessing.html#preprocessing) (eng. data preprocessing)\n",
    "* [selectarea atributelor](https://scikit-learn.org/stable/modules/feature_selection.html) (eng. feature selection)\n",
    "* modificarea hiperparametrilor fiecărui algoritm (e.g. tipul de kernel la SVM, coeficienți de regularizare, numărul de arbori în RandomForest, adâncimea arborilor în RandomForest)\n",
    "    * **Atenție!**, exemplu de **AȘA NU**: rularea cu un număr maxim de 10 iterații la baseline și 100 de iterații la modelul mai bun.\n",
    "\n",
    "În *fma_song_info.zip* există și un fișier *features.csv* -- detalii despre acesta se găsesc în repository-ul menționat în secțiunea [Set de date](#scrollTo=67UlrcAdqj3N).\n",
    "\n",
    "**Evaluare îmbunătățiri**\n",
    "\n",
    "* Evaluam variantele îmbunătățite ale algoritmilor, folosind 5-fold [cross-validation](https://machinelearningmastery.com/k-fold-cross-validation/). Folosiți aceleași metrici ca în cazul baseline-ului.  **Atenție!** Pentru cross-validation trebuie să vă refaceti împartirea in train/test a setului de date.\n",
    "* Realizăm grafice în care să arătăm analiza intra-algoritm a performanței îmbunătățirii (e.g. folosiți un bar chart pentru a compara accuracy-ul variantei baseline a RandomForest cu cea a variantei îmbunătățite).\n",
    "* Realizăm grafice în care să arătăm analiza inter-algoritm a performanțelor. Vom face câte un grafic per metrică (e.g. accuracy, precision, recall) în care să încludem valorile obținute de fiecare algoritm îmbunătățit în parte. "
   ]
  },
  {
   "cell_type": "markdown",
   "metadata": {},
   "source": [
    "#### Impartirea datelor"
   ]
  },
  {
   "cell_type": "code",
   "execution_count": 13,
   "metadata": {},
   "outputs": [],
   "source": [
    "audio_features_train = echonest.loc[train, ('echonest', 'audio_features')]\n",
    "audio_features_test = echonest.loc[test, ('echonest', 'audio_features')]\n",
    "\n",
    "temporal_features_train = echonest.loc[train, ('echonest', 'temporal_features')]\n",
    "temporal_features_test = echonest.loc[test, ('echonest', 'temporal_features')]\n",
    "\n",
    "X_train = audio_features_train.join(temporal_features_train)\n",
    "X_test = audio_features_test.join(temporal_features_test)\n",
    "\n",
    "Y_train = tracks.loc[train, ('track', 'genre_top')]\n",
    "Y_test = tracks.loc[test, ('track', 'genre_top')]\n",
    "\n",
    "X = StandardScaler().fit_transform(pd.concat([X_train, X_test]))\n",
    "X = pd.DataFrame(X, X[:,0])\n",
    "\n",
    "Y = pd.concat([Y_train, Y_test])\n",
    "\n",
    "X_train, X_test, Y_train, Y_test = train_test_split(X, Y, test_size=0.2)\n",
    "\n",
    "# codificam Y_train pentru a nu avea probleme cu XGBoost\n",
    "le = LabelEncoder()\n",
    "le.fit(Y_train)\n",
    "\n",
    "Y_train = le.transform(Y_train)"
   ]
  },
  {
   "cell_type": "markdown",
   "metadata": {},
   "source": [
    "#### Alegere K pentru SelectKBest"
   ]
  },
  {
   "cell_type": "code",
   "execution_count": 14,
   "metadata": {
    "colab": {},
    "colab_type": "code",
    "id": "E7t02xIht9rK"
   },
   "outputs": [
    {
     "name": "stdout",
     "output_type": "stream",
     "text": [
      "Best k = 100\n"
     ]
    }
   ],
   "source": [
    "baseline_models = [\n",
    "    RandomForestClassifier(n_estimators=100),\n",
    "    XGBClassifier(n_estimators = 100),\n",
    "    SVC(gamma='auto', kernel='linear')\n",
    "]\n",
    "\n",
    "k_vals = [10, 25, 50, 60, 65, 70, 75, 80, 85, 90, 95, 100, 110, 125, 150]\n",
    "\n",
    "max_mean = 0\n",
    "max_k = None\n",
    "\n",
    "for k_val in k_vals:\n",
    "    model_results = [[], [], []]\n",
    "    \n",
    "    for iteration in range(10):\n",
    "        for index, model in enumerate(baseline_models):\n",
    "            selector = SelectKBest(k=k_val).fit(X_train, Y_train)\n",
    "            cols = selector.get_support(indices=True)\n",
    "            features_train = StandardScaler().fit_transform(X_train.iloc[:,cols])\n",
    "            features_test = StandardScaler().fit_transform(X_test.iloc[:,cols])\n",
    "\n",
    "            model.fit(features_train, Y_train)\n",
    "            \n",
    "            Y_pred = le.inverse_transform(model.predict(features_test))\n",
    "            \n",
    "            model_results[index].append(evaluate_metrics(Y_test, Y_pred)['accuracy'])\n",
    "\n",
    "    model_means = [mean(results) for results in model_results]\n",
    "\n",
    "    if mean(model_means) > max_mean:\n",
    "        max_mean = mean(model_means)\n",
    "        max_k = k_val\n",
    "            \n",
    "print('Best k =', max_k)"
   ]
  },
  {
   "cell_type": "markdown",
   "metadata": {},
   "source": [
    "#### Preprocesarea datelor"
   ]
  },
  {
   "cell_type": "code",
   "execution_count": 15,
   "metadata": {},
   "outputs": [],
   "source": [
    "selector = SelectKBest(k=100).fit(X, Y)\n",
    "cols = selector.get_support(indices=True)\n",
    "X_train = X_train.iloc[:,cols]\n",
    "X_test = X_test.iloc[:,cols]"
   ]
  },
  {
   "cell_type": "markdown",
   "metadata": {},
   "source": [
    "#### Hiperparametri KMeans"
   ]
  },
  {
   "cell_type": "code",
   "execution_count": 16,
   "metadata": {},
   "outputs": [
    {
     "name": "stdout",
     "output_type": "stream",
     "text": [
      "init: k-means++ max_iter: 700 tol: 0.001\n"
     ]
    }
   ],
   "source": [
    "X = np.vstack((X_train, X_test))\n",
    "Y = np.hstack((Y_train, le.transform(Y_test)))\n",
    "\n",
    "init_vals = ['k-means++', 'random']\n",
    "max_iter_vals = [100, 200, 300, 400, 500, 600, 700, 800, 900, 1000]\n",
    "tol_vals = [100, 10, 1, 0.1, 0.01, 0.001, 0.0001, 0.00001, 0.000001]\n",
    "\n",
    "max_rand_index = 0.0\n",
    "max_value = ()\n",
    "\n",
    "for init_val in init_vals:\n",
    "    for max_iter_val in max_iter_vals:\n",
    "        for tol_val in tol_vals:\n",
    "            cluster_labels = KMeans(n_clusters=4, init=init_val, max_iter=max_iter_val, tol=tol_val).fit_predict(X)\n",
    "\n",
    "            rand_index = randIndex(cluster_labels, Y)\n",
    "            \n",
    "            if rand_index > max_rand_index:\n",
    "                max_rand_index = rand_index\n",
    "                max_value = (init_val, max_iter_val, tol_val)\n",
    "\n",
    "print(\n",
    "    'init:', max_value[0],\n",
    "    'max_iter:', max_value[1],\n",
    "    'tol:', max_value[2]\n",
    ")"
   ]
  },
  {
   "cell_type": "markdown",
   "metadata": {},
   "source": [
    "#### Hiperparametri Random Forest"
   ]
  },
  {
   "cell_type": "code",
   "execution_count": 17,
   "metadata": {
    "scrolled": true
   },
   "outputs": [
    {
     "name": "stdout",
     "output_type": "stream",
     "text": [
      "n_estimators: 300 max_depth: None max_features: 0.1\n"
     ]
    }
   ],
   "source": [
    "n_estimators_vals = [10, 25, 50, 100, 200, 300, 400, 500]\n",
    "max_depth_vals = [10, 20, 30, 40, 50, 75, None]\n",
    "max_features_vals = ['sqrt', 'log2', 0.1, 0.2, 0.3]\n",
    "\n",
    "max_cv = (0, 1)\n",
    "max_value = ()\n",
    "\n",
    "for n_estimators_val in n_estimators_vals:\n",
    "    for max_depth_val in max_depth_vals:\n",
    "        for max_features_val in max_features_vals:\n",
    "            clf = RandomForestClassifier(\n",
    "                n_estimators=n_estimators_val,\n",
    "                max_depth=max_depth_val,\n",
    "                max_features=max_features_val\n",
    "            )\n",
    "\n",
    "            cv_score = cross_val_score(clf, X_test, Y_test, cv=5)\n",
    "\n",
    "            if round(mean(cv_score), 3) == round(max_cv[0], 3) and stdev(cv_score) < max_cv[1]:\n",
    "                max_cv = (mean(cv_score), stdev(cv_score))\n",
    "                max_val = (n_estimators_val, max_depth_val, max_features_val)\n",
    "            elif mean(cv_score) > max_cv[0]:\n",
    "                max_cv = (mean(cv_score), stdev(cv_score))\n",
    "                max_val = (n_estimators_val, max_depth_val, max_features_val)\n",
    "\n",
    "print(\n",
    "    'n_estimators:', max_val[0],\n",
    "    'max_depth:', max_val[1],\n",
    "    'max_features:', max_val[2]\n",
    ")"
   ]
  },
  {
   "cell_type": "markdown",
   "metadata": {},
   "source": [
    "#### Hiperparametri XGBoost"
   ]
  },
  {
   "cell_type": "code",
   "execution_count": 18,
   "metadata": {},
   "outputs": [
    {
     "name": "stdout",
     "output_type": "stream",
     "text": [
      "n_estimators: 300 booster: gbtree learning_rate: 0.4 max_depth: 10\n"
     ]
    }
   ],
   "source": [
    "n_estimators_vals = [10, 25, 50, 100, 200, 300, 400, 500]\n",
    "booster_vals = ['gblinear', 'gbtree', 'dart']\n",
    "learning_rate_vals = [0.1, 0.2, 0.3, 0.4, 0.5, 0.6, 0.7, 0.8, 0.9, 1.0]\n",
    "max_depth_vals = [3, 4, 5, 6, 7, 8, 9, 10]\n",
    "\n",
    "max_cv = (0, 1)\n",
    "max_value = ()\n",
    "\n",
    "for n_estimators_val in n_estimators_vals:\n",
    "    for booster_val in booster_vals:\n",
    "        for learning_rate_val in learning_rate_vals:\n",
    "            for max_depth_val in max_depth_vals:\n",
    "                clf = XGBClassifier(\n",
    "                    n_estimators = n_estimators_val,\n",
    "                    booster=booster_val,\n",
    "                    learning_rate=learning_rate_val,\n",
    "                    max_depth=max_depth_val\n",
    "                )\n",
    "\n",
    "                cv_score = cross_val_score(clf, X_test, Y_test, cv=5)\n",
    "\n",
    "                if round(mean(cv_score), 3) == round(max_cv[0], 3) and stdev(cv_score) < max_cv[1]:\n",
    "                    max_cv = (mean(cv_score), stdev(cv_score))\n",
    "                    max_val = (n_estimators_val, booster_val, learning_rate_val, max_depth_val)\n",
    "                elif mean(cv_score) > max_cv[0]:\n",
    "                    max_cv = (mean(cv_score), stdev(cv_score))\n",
    "                    max_val = (n_estimators_val, booster_val, learning_rate_val, max_depth_val)\n",
    "\n",
    "print(\n",
    "    'n_estimators:', max_val[0],\n",
    "    'booster:', max_val[1],\n",
    "    'learning_rate:', max_val[2],\n",
    "    'max_depth:', max_val[3]\n",
    ")"
   ]
  },
  {
   "cell_type": "markdown",
   "metadata": {},
   "source": [
    "#### Hiperparametri SVM"
   ]
  },
  {
   "cell_type": "code",
   "execution_count": 19,
   "metadata": {},
   "outputs": [
    {
     "name": "stdout",
     "output_type": "stream",
     "text": [
      "kernel: rbf C: 3.0 degree: 2\n"
     ]
    }
   ],
   "source": [
    "kernel_vals = ['linear', 'rbf', 'poly', 'sigmoid']\n",
    "C_vals = [0.01, 0.1, 0.2, 0.3, 0.4, 0.5, 0.6, 0.7, 0.8, 0.9, 1.0, 2.0, 3.0, 4.0, 5.0, 10.0, 100.0, 1000.0]\n",
    "degree_vals = [2, 3, 4, 5, 6, 7]\n",
    "\n",
    "max_cv = (0, 1)\n",
    "max_value = ()\n",
    "\n",
    "for kernel_val in kernel_vals:\n",
    "    for C_val in C_vals:\n",
    "        for degree_val in degree_vals:\n",
    "            clf = SVC(\n",
    "                gamma='auto',\n",
    "                kernel=kernel_val,\n",
    "                C=C_val,\n",
    "                degree=degree_val\n",
    "            )\n",
    "\n",
    "            cv_score = cross_val_score(clf, X_test, Y_test, cv=5)\n",
    "\n",
    "            if round(mean(cv_score), 3) == round(max_cv[0], 3) and stdev(cv_score) < max_cv[1]:\n",
    "                max_cv = (mean(cv_score), stdev(cv_score))\n",
    "                max_val = (kernel_val, C_val, degree_val)\n",
    "            elif mean(cv_score) > max_cv[0]:\n",
    "                max_cv = (mean(cv_score), stdev(cv_score))\n",
    "                max_val = (kernel_val, C_val, degree_val)\n",
    "\n",
    "print(\n",
    "    'kernel:', max_val[0],\n",
    "    'C:', max_val[1],\n",
    "    'degree:', max_val[2]\n",
    ")"
   ]
  },
  {
   "cell_type": "markdown",
   "metadata": {},
   "source": [
    "#### Declarare modele"
   ]
  },
  {
   "cell_type": "code",
   "execution_count": 20,
   "metadata": {},
   "outputs": [],
   "source": [
    "baseline_kmeans = KMeans(n_clusters=4).fit(X)\n",
    "\n",
    "tuned_kmeans = KMeans(n_clusters=4, init='k-means++', max_iter=700, tol=0.001).fit(X)\n",
    "\n",
    "baseline_clfs = [\n",
    "    RandomForestClassifier(n_estimators=100).fit(X_train, Y_train),\n",
    "    XGBClassifier(n_estimators = 100).fit(X_train, Y_train),\n",
    "    SVC(gamma='auto', kernel='linear').fit(X_train, Y_train)\n",
    "]\n",
    "\n",
    "tuned_clfs = [\n",
    "    RandomForestClassifier(n_estimators=300, max_depth=None, max_features=0.1).fit(X_train, Y_train),\n",
    "    XGBClassifier(n_estimators = 300, booster='gbtree', learning_rate=0.4, max_depth=10).fit(X_train, Y_train),\n",
    "    SVC(gamma='auto', kernel='rbf', C=3.0).fit(X_train, Y_train)\n",
    "]"
   ]
  },
  {
   "cell_type": "markdown",
   "metadata": {},
   "source": [
    "#### Obtinere metrici"
   ]
  },
  {
   "cell_type": "code",
   "execution_count": 21,
   "metadata": {},
   "outputs": [],
   "source": [
    "cluster_labels_baseline = baseline_kmeans.fit_predict(X)\n",
    "cluster_labels_tuned = tuned_kmeans.fit_predict(X)\n",
    "\n",
    "k_means_metrics = (randIndex(cluster_labels_baseline, np.array(Y)), randIndex(cluster_labels_tuned, np.array(Y)))\n",
    "\n",
    "classifier_metrics = []\n",
    "\n",
    "for i in range(3):\n",
    "    Y_pred_baseline = le.inverse_transform(baseline_clfs[i].predict(X_test))\n",
    "    Y_pred_tuned = le.inverse_transform(tuned_clfs[i].predict(X_test))\n",
    "    \n",
    "    classifier_metrics.append((evaluate_metrics(Y_test, Y_pred_baseline), evaluate_metrics(Y_test, Y_pred_tuned)))"
   ]
  },
  {
   "cell_type": "markdown",
   "metadata": {},
   "source": [
    "#### Grafic KMeans"
   ]
  },
  {
   "cell_type": "code",
   "execution_count": 22,
   "metadata": {},
   "outputs": [
    {
     "data": {
      "image/png": "[encoded data removed]",
      "text/plain": [
       "<Figure size 432x288 with 1 Axes>"
      ]
     },
     "metadata": {
      "needs_background": "light"
     },
     "output_type": "display_data"
    }
   ],
   "source": [
    "y_pos = np.arange(len(k_means_metrics))\n",
    "plt.bar(y_pos, k_means_metrics)\n",
    "plt.xticks(y_pos, ('Baseline', 'Imbunatatit'))\n",
    "plt.ylim(0, 1)\n",
    "plt.ylabel('randIndex')\n",
    "for index, value in enumerate(k_means_metrics):\n",
    "            plt.text(index - 0.1, value + 0.02, str(round(value, 4)))\n",
    "plt.title('Comparatie Kmeans')\n",
    "\n",
    "plt.show()"
   ]
  },
  {
   "cell_type": "markdown",
   "metadata": {},
   "source": [
    "#### Grafice intra-algoritm"
   ]
  },
  {
   "cell_type": "code",
   "execution_count": 23,
   "metadata": {
    "scrolled": false
   },
   "outputs": [
    {
     "data": {
      "image/png": "[encoded data removed]",
      "text/plain": [
       "<Figure size 432x288 with 1 Axes>"
      ]
     },
     "metadata": {
      "needs_background": "light"
     },
     "output_type": "display_data"
    },
    {
     "data": {
      "image/png": "[encoded data removed]",
      "text/plain": [
       "<Figure size 432x288 with 1 Axes>"
      ]
     },
     "metadata": {
      "needs_background": "light"
     },
     "output_type": "display_data"
    },
    {
     "data": {
      "image/png": "[encoded data removed]",
      "text/plain": [
       "<Figure size 432x288 with 1 Axes>"
      ]
     },
     "metadata": {
      "needs_background": "light"
     },
     "output_type": "display_data"
    },
    {
     "data": {
      "image/png": "[encoded data removed]",
      "text/plain": [
       "<Figure size 432x288 with 1 Axes>"
      ]
     },
     "metadata": {
      "needs_background": "light"
     },
     "output_type": "display_data"
    },
    {
     "data": {
      "image/png": "[encoded data removed]",
      "text/plain": [
       "<Figure size 432x288 with 1 Axes>"
      ]
     },
     "metadata": {
      "needs_background": "light"
     },
     "output_type": "display_data"
    },
    {
     "data": {
      "image/png": "[encoded data removed]",
      "text/plain": [
       "<Figure size 432x288 with 1 Axes>"
      ]
     },
     "metadata": {
      "needs_background": "light"
     },
     "output_type": "display_data"
    },
    {
     "data": {
      "image/png": "[encoded data removed]",
      "text/plain": [
       "<Figure size 432x288 with 1 Axes>"
      ]
     },
     "metadata": {
      "needs_background": "light"
     },
     "output_type": "display_data"
    },
    {
     "data": {
      "image/png": "[encoded data removed]",
      "text/plain": [
       "<Figure size 432x288 with 1 Axes>"
      ]
     },
     "metadata": {
      "needs_background": "light"
     },
     "output_type": "display_data"
    },
    {
     "data": {
      "image/png": "[encoded data removed]",
      "text/plain": [
       "<Figure size 432x288 with 1 Axes>"
      ]
     },
     "metadata": {
      "needs_background": "light"
     },
     "output_type": "display_data"
    }
   ],
   "source": [
    "y_pos = np.arange(2)\n",
    "metrics = ['accuracy', 'precision', 'recall']\n",
    "names = ['Random Forest', 'XGBoost', 'SVC']\n",
    "\n",
    "for i in range(len(classifier_metrics)):\n",
    "    for j in range(len(metrics)):\n",
    "        if j == 0:\n",
    "            values = [classifier_metrics[i][0][metrics[j]], classifier_metrics[i][1][metrics[j]]]\n",
    "        else:\n",
    "            values = [mean(classifier_metrics[i][0][metrics[j]]), mean(classifier_metrics[i][1][metrics[j]])]\n",
    "\n",
    "        plt.bar(y_pos, values)\n",
    "        plt.xticks(y_pos, ('Baseline', 'Imbunatatit'))\n",
    "        plt.ylim(0, 1)\n",
    "        plt.ylabel(metrics[j])\n",
    "        for index, value in enumerate(values):\n",
    "            plt.text(index - 0.1, value + 0.02, str(round(value, 4)))\n",
    "        plt.title('Comparatie ' + metrics[j] + ' ' + names[i])\n",
    "        plt.show()"
   ]
  },
  {
   "cell_type": "markdown",
   "metadata": {},
   "source": [
    "#### Grafice inter-algoritm"
   ]
  },
  {
   "cell_type": "code",
   "execution_count": 24,
   "metadata": {},
   "outputs": [
    {
     "data": {
      "image/png": "[encoded data removed]",
      "text/plain": [
       "<Figure size 432x288 with 1 Axes>"
      ]
     },
     "metadata": {
      "needs_background": "light"
     },
     "output_type": "display_data"
    },
    {
     "data": {
      "image/png": "[encoded data removed]",
      "text/plain": [
       "<Figure size 432x288 with 1 Axes>"
      ]
     },
     "metadata": {
      "needs_background": "light"
     },
     "output_type": "display_data"
    },
    {
     "data": {
      "image/png": "[encoded data removed]",
      "text/plain": [
       "<Figure size 432x288 with 1 Axes>"
      ]
     },
     "metadata": {
      "needs_background": "light"
     },
     "output_type": "display_data"
    }
   ],
   "source": [
    "y_pos = np.arange(3)\n",
    "metrics = ['accuracy', 'precision', 'recall']\n",
    "names = ['Random Forest', 'XGBoost', 'SVC']\n",
    "\n",
    "for i in range(len(metrics)):\n",
    "    if i == 0:\n",
    "        values = [classifier_metric[1][metrics[i]] for classifier_metric in classifier_metrics]\n",
    "    else:\n",
    "        values = [mean(classifier_metric[1][metrics[i]]) for classifier_metric in classifier_metrics]\n",
    "\n",
    "    plt.bar(y_pos, values)\n",
    "    plt.xticks(y_pos, names)\n",
    "    plt.ylim(0, 1)\n",
    "    plt.ylabel(metrics[i])\n",
    "    for index, value in enumerate(values):\n",
    "        plt.text(index - 0.1, value + 0.02, str(round(value, 4)))\n",
    "    plt.title('Comparatie ' + metrics[i] + ' algoritmi imbunatatiti')\n",
    "    plt.show()"
   ]
  },
  {
   "cell_type": "markdown",
   "metadata": {},
   "source": [
    "#### Concluzii\n",
    "\n",
    "In ceea ce priveste KMeans nu observam diferente majore, deoarece problema este una de clasificare si nu de clusterizare. Se observa o mica diferenta intre rezultatul pe datele initiale si cel pe datele standardizate si inca o mica diferenta intre varianta baseline si varianta optimizata. Nu am gasit vreun parametru mai relevant decat numarul maxim de iteratii si toleranta, dar acestea nu influenteaza prea mult rezultatul.\n",
    "\n",
    "Random Forest este cel mai rapid, dar are performantele cele mai slabe. Hiperparametri considerati au fost numarul de estimatori, pentru a aveam mai multi estimatori care sa voteze, adancimea maxima a arborilor si numarul maxim de featururi considerate pentru un arbore.\n",
    "\n",
    "XGBoost are performantele cele mai bune, dar merge si cel mai greu dintre toti. De asemenea, nu este foarte sensibil la modificarea hiperparametrilor, imbunatatirea nefiind foarte mare. Hiperparametri considerati sunt numarul de estimatori, adancimea maxima a unui arbore, tipul de model de baza si rata de invatare.\n",
    "\n",
    "SVC are performate asemanatoare cu XGBoost si ruleaza mai repede. De asemenea, se obtine o diferenta destul de mare intre varianta baseline si varianta imbunatatita, ceea ce inseamna ca poate putem obtine rezultate si mai bune alegand un C mai fin."
   ]
  },
  {
   "cell_type": "markdown",
   "metadata": {
    "colab_type": "text",
    "id": "_0gPDAkaF5Fy"
   },
   "source": [
    "## 5. Mențiuni"
   ]
  },
  {
   "cell_type": "markdown",
   "metadata": {
    "colab_type": "text",
    "id": "_IqXt6rAbRbW"
   },
   "source": [
    "\"Rezolvarea\" unei probleme de învățare automată se reduce la îmbunătățirea unei metrici.\n",
    "\n",
    "Un prim pas important este reprezentat de crearea unui *baseline* sau a unei soluții banale, de start (eng. *vanilla solution*) și măsurarea acesteia.\n",
    "\n",
    "Următorul pas îl reprezintă o serie de modificări aduse feature setului sau algoritmului de învățăre. Aceast pas reprezintă o iterație peste soluția inițială.\n",
    "\n",
    "Tot procesul constă în aplicarea mai multor *iterații* până se ajunge la o valoare a metricii suficient de bună pentru problema de rezolvat. În cazul nostru, această valoare este reprezentată de ambiția fiecăruia dintre voi :)\n",
    "\n",
    "**Recomandări**:\n",
    "* biblioteca [sklearn](https://scikit-learn.org/) - oferă o colecție algoritmi de învățare automată, metrici, metode de selectare de caractaristici, etc.\n",
    "* pentru XGBoost puteți folosit biblioteca [xgboost](https://xgboost.readthedocs.io/en/latest/)"
   ]
  },
  {
   "cell_type": "markdown",
   "metadata": {
    "colab_type": "text",
    "id": "fS6s1c-gPyMN"
   },
   "source": [
    "## 6. Sample test\n",
    "Biblioteca [librosa](https://librosa.github.io/librosa/) permite analizarea și redarea sunetelor.\n",
    "\n",
    "Se poate folosi pentru a observa dacă anumite melodii găsite într-un anumit gen muzical sunt asemănătoare."
   ]
  },
  {
   "cell_type": "code",
   "execution_count": null,
   "metadata": {
    "colab": {},
    "colab_type": "code",
    "id": "izobnGMbQqIE"
   },
   "outputs": [],
   "source": [
    "track_test = tracks[test].sample(1)\n",
    "title = track_test[('track', 'title')].values[0]\n",
    "genre = track_test[('track', 'genre_top')].values[0]\n",
    "print(f\"Song\\n\\ttitle: {title}\\n\\tgenre {genre}\")\n",
    "\n",
    "song_path = get_song_path(track_test.index.values[0])\n",
    "song, rate = librosa.load(song_path)\n",
    "ipd.Audio(song, rate=rate)"
   ]
  },
  {
   "cell_type": "markdown",
   "metadata": {
    "colab_type": "text",
    "id": "-tkdMwB5S-as"
   },
   "source": [
    "## 7. Link-uri utile\n",
    "* [Evaluarea algoritmilor de clusterizare](https://nlp.stanford.edu/IR-book/html/htmledition/evaluation-of-clustering-1.html)\n",
    "* [Standardizare vs Normalizare](https://medium.com/@rrfd/standardize-or-normalize-examples-in-python-e3f174b65dfc)"
   ]
  },
  {
   "cell_type": "markdown",
   "metadata": {
    "colab_type": "text",
    "id": "gHfxzF2Omi_G"
   },
   "source": [
    "## Bibliografie\n",
    "<a name=\"fma\">[1] *Michaël Defferrard, Kirell Benzi, Pierre Vandergheynst, Xavier Bresson, FMA: A Dataset For Music Analysis, 18th International Society for Music Information Retrieval Conference, 2017*</a>\n",
    "\n"
   ]
  }
 ],
 "metadata": {
  "colab": {
   "collapsed_sections": [
    "dDsijK1tlD3l",
    "UTYLEhD_BM06",
    "67UlrcAdqj3N",
    "dKLOmyV707aI",
    "te02bqsfMhls",
    "HhdeP2WuL1AE",
    "FOsgPbZl1_W6",
    "iXlSfuvvzzFT",
    "RxCYjmzTM82o",
    "42KuhlsjfZLR",
    "NiqnAbGQpEVi",
    "_0gPDAkaF5Fy",
    "fS6s1c-gPyMN"
   ],
   "include_colab_link": true,
   "name": "Tema 1 - Skel.ipynb",
   "provenance": [],
   "toc_visible": true
  },
  "kernelspec": {
   "display_name": "Python 3",
   "language": "python",
   "name": "python3"
  },
  "language_info": {
   "codemirror_mode": {
    "name": "ipython",
    "version": 3
   },
   "file_extension": ".py",
   "mimetype": "text/x-python",
   "name": "python",
   "nbconvert_exporter": "python",
   "pygments_lexer": "ipython3",
   "version": "3.7.4"
  }
 },
 "nbformat": 4,
 "nbformat_minor": 1
}
